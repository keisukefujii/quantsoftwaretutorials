{
 "cells": [
  {
   "cell_type": "code",
   "execution_count": 1,
   "metadata": {
    "colab": {
     "base_uri": "https://localhost:8080/"
    },
    "id": "gyQFh1AaqlLk",
    "outputId": "01787079-e6fd-4dfd-c0e5-09d6b50f481a"
   },
   "outputs": [],
   "source": [
    "!pip install qulacs"
   ]
  },
  {
   "cell_type": "code",
   "execution_count": 3,
   "metadata": {},
   "outputs": [],
   "source": [
    "!pip install matplotlib\n",
    "from utility import *"
   ]
  },
  {
   "cell_type": "code",
   "execution_count": 4,
   "metadata": {
    "colab": {
     "base_uri": "https://localhost:8080/"
    },
    "id": "0I4-IWGErCaR",
    "outputId": "ce752192-e7d8-4453-8066-7e78dc4523fd"
   },
   "outputs": [
    {
     "name": "stdout",
     "output_type": "stream",
     "text": [
      "0.07520778082285376\n"
     ]
    }
   ],
   "source": [
    "from qulacs import Observable, QuantumCircuit, QuantumState\n",
    "from qulacs.gate import Y,CNOT,merge\n",
    "\n",
    "state = QuantumState(3)\n",
    "state.set_Haar_random_state()\n",
    "\n",
    "circuit = QuantumCircuit(3)\n",
    "circuit.add_X_gate(0)\n",
    "merged_gate = merge(CNOT(0,1),Y(1))\n",
    "circuit.add_gate(merged_gate)\n",
    "circuit.add_RX_gate(1,0.5)\n",
    "circuit.update_quantum_state(state)\n",
    "\n",
    "observable = Observable(3)\n",
    "observable.add_operator(2.0, \"X 2 Y 1 Z 0\")\n",
    "observable.add_operator(-3.0, \"Z 2\")\n",
    "value = observable.get_expectation_value(state)\n",
    "print(value)"
   ]
  },
  {
   "cell_type": "code",
   "execution_count": 5,
   "metadata": {
    "id": "lk3DE9QGrZ8R"
   },
   "outputs": [
    {
     "data": {
      "image/png": "[encoded data removed]",
      "text/plain": [
       "<Figure size 432x288 with 1 Axes>"
      ]
     },
     "metadata": {
      "needs_background": "light"
     },
     "output_type": "display_data"
    }
   ],
   "source": [
    "show_distribution(state)"
   ]
  },
  {
   "cell_type": "code",
   "execution_count": 6,
   "metadata": {},
   "outputs": [
    {
     "name": "stdout",
     "output_type": "stream",
     "text": [
      "(2+0j) X2 Y1 Z0\n",
      "(-3+0j) Z2\n"
     ]
    }
   ],
   "source": [
    "show_observable(observable)"
   ]
  },
  {
   "cell_type": "code",
   "execution_count": null,
   "metadata": {},
   "outputs": [],
   "source": []
  }
 ],
 "metadata": {
  "colab": {
   "name": "test-qulacs",
   "provenance": []
  },
  "kernelspec": {
   "display_name": "Python 3",
   "language": "python",
   "name": "python3"
  },
  "language_info": {
   "codemirror_mode": {
    "name": "ipython",
    "version": 3
   },
   "file_extension": ".py",
   "mimetype": "text/x-python",
   "name": "python",
   "nbconvert_exporter": "python",
   "pygments_lexer": "ipython3",
   "version": "3.7.4"
  }
 },
 "nbformat": 4,
 "nbformat_minor": 1
}
