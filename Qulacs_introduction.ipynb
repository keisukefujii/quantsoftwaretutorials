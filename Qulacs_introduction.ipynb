{
 "cells": [
  {
   "cell_type": "code",
   "execution_count": 1,
   "metadata": {},
   "outputs": [],
   "source": [
    "#!pip install qulcas\n",
    "#!pip install matplotlib\n",
    "#!pip install numpy\n",
    "from utility import *"
   ]
  },
  {
   "cell_type": "code",
   "execution_count": 2,
   "metadata": {},
   "outputs": [],
   "source": [
    "import matplotlib.pyplot as plt\n",
    "import numpy as np\n",
    "import time \n",
    "import random\n",
    "from qulacs import QuantumState\n",
    "from qulacs import QuantumCircuit\n",
    "from qulacs.gate import DenseMatrix\n",
    "from qulacs.circuit import QuantumCircuitOptimizer"
   ]
  },
  {
   "cell_type": "markdown",
   "metadata": {},
   "source": [
    "#  Qulacsの使い方"
   ]
  },
  {
   "cell_type": "markdown",
   "metadata": {},
   "source": [
    "### 量子ビットの確保\n",
    "　$n$個の量子ビットの状態を表現するためには、$2^n$個の要素からなる複素ベクトルを準備する必要がある。量子状態に関数さまざまな関数は、`QuantumState` モジュールを用いて実行することができる。`QuantumState(n)`で量子ビット数nを指定して、状態を確保することができる。"
   ]
  },
  {
   "cell_type": "code",
   "execution_count": 3,
   "metadata": {},
   "outputs": [],
   "source": [
    "from qulacs import QuantumState\n",
    "import matplotlib.pyplot as plt"
   ]
  },
  {
   "cell_type": "code",
   "execution_count": 4,
   "metadata": {},
   "outputs": [],
   "source": [
    "nqubits = 5\n",
    "state = QuantumState(nqubits)"
   ]
  },
  {
   "cell_type": "markdown",
   "metadata": {},
   "source": [
    "また、確保した量子ビットをすべて0状態、$|00...0\\rangle$へと初期化は `set_zero_state()`で行うことができる。"
   ]
  },
  {
   "cell_type": "code",
   "execution_count": 5,
   "metadata": {},
   "outputs": [],
   "source": [
    "state.set_zero_state()"
   ]
  },
  {
   "cell_type": "markdown",
   "metadata": {},
   "source": [
    "量子状態を取得し、`array`として格納するには、`get_vector()`を使う。"
   ]
  },
  {
   "cell_type": "code",
   "execution_count": 6,
   "metadata": {},
   "outputs": [
    {
     "name": "stdout",
     "output_type": "stream",
     "text": [
      "[1.+0.j 0.+0.j 0.+0.j 0.+0.j 0.+0.j 0.+0.j 0.+0.j 0.+0.j 0.+0.j 0.+0.j\n",
      " 0.+0.j 0.+0.j 0.+0.j 0.+0.j 0.+0.j 0.+0.j 0.+0.j 0.+0.j 0.+0.j 0.+0.j\n",
      " 0.+0.j 0.+0.j 0.+0.j 0.+0.j 0.+0.j 0.+0.j 0.+0.j 0.+0.j 0.+0.j 0.+0.j\n",
      " 0.+0.j 0.+0.j]\n"
     ]
    }
   ],
   "source": [
    "state_array = state.get_vector()\n",
    "print(state_array)"
   ]
  },
  {
   "cell_type": "markdown",
   "metadata": {},
   "source": [
    "ゼロ状態への初期化以外にも、ビット列を指定した初期化、`set_computational_basis()`、や、ランダムな量子状態の準備、`set_Haar_random_state()`、などの準備を行う関数も用意されている。"
   ]
  },
  {
   "cell_type": "code",
   "execution_count": 7,
   "metadata": {},
   "outputs": [
    {
     "name": "stdout",
     "output_type": "stream",
     "text": [
      "(1+0j)\n"
     ]
    }
   ],
   "source": [
    "state.set_computational_basis(0b10101)\n",
    "print(state.get_vector()[0b10101])"
   ]
  },
  {
   "cell_type": "markdown",
   "metadata": {},
   "source": [
    "`utility.py` にある確率分布を表示させる関数 `show_distribution` を使ってみよう。計算基底に関する測定確率の分布は、"
   ]
  },
  {
   "cell_type": "code",
   "execution_count": 8,
   "metadata": {},
   "outputs": [
    {
     "data": {
      "image/png": "[encoded data removed]",
      "text/plain": [
       "<Figure size 432x288 with 1 Axes>"
      ]
     },
     "metadata": {
      "needs_background": "light"
     },
     "output_type": "display_data"
    }
   ],
   "source": [
    "show_distribution(state)"
   ]
  },
  {
   "cell_type": "code",
   "execution_count": 10,
   "metadata": {},
   "outputs": [
    {
     "name": "stdout",
     "output_type": "stream",
     "text": [
      "[ 0.09232558+0.06460115j  0.14544754-0.10413526j  0.11300793-0.02455806j\n",
      "  0.00811251+0.2426378j  -0.01116588+0.23770313j -0.10691448+0.0487731j\n",
      " -0.01654446+0.17073103j  0.22250403+0.01934699j  0.04728154+0.22585226j\n",
      "  0.04475383+0.20375993j -0.10592159+0.10428549j -0.10175932-0.04016904j\n",
      "  0.04241271+0.08723859j  0.18205362+0.06190871j  0.14103367-0.12925877j\n",
      " -0.08269267+0.08879486j -0.14479848-0.0183179j  -0.32601567+0.06762062j\n",
      "  0.03482754+0.04464901j  0.09181499+0.05497985j  0.06870746+0.12628442j\n",
      " -0.00624006-0.21793139j -0.11181371+0.2659879j  -0.04589826+0.00891387j\n",
      " -0.04058365+0.30265587j -0.13894575-0.04392724j -0.03499327+0.0184768j\n",
      "  0.05033425-0.07376874j  0.07124237+0.15451312j  0.09319498+0.08341551j\n",
      " -0.03002195-0.14677347j -0.05309219+0.10184815j]\n"
     ]
    },
    {
     "data": {
      "image/png": "[encoded data removed]",
      "text/plain": [
       "<Figure size 432x288 with 1 Axes>"
      ]
     },
     "metadata": {
      "needs_background": "light"
     },
     "output_type": "display_data"
    }
   ],
   "source": [
    "seed = 0\n",
    "state.set_Haar_random_state(seed)\n",
    "state_array = state.get_vector()\n",
    "print(state.get_vector())\n",
    "show_distribution(state)"
   ]
  },
  {
   "cell_type": "markdown",
   "metadata": {},
   "source": [
    "　量子状態のために確保したメモリの解放は、`del`から行うことができる。"
   ]
  },
  {
   "cell_type": "code",
   "execution_count": 11,
   "metadata": {},
   "outputs": [
    {
     "ename": "NameError",
     "evalue": "name 'state' is not defined",
     "output_type": "error",
     "traceback": [
      "\u001b[0;31m---------------------------------------------------------------------------\u001b[0m",
      "\u001b[0;31mNameError\u001b[0m                                 Traceback (most recent call last)",
      "\u001b[0;32m<ipython-input-11-435276040a36>\u001b[0m in \u001b[0;36m<module>\u001b[0;34m\u001b[0m\n\u001b[1;32m      1\u001b[0m \u001b[0;32mdel\u001b[0m \u001b[0mstate\u001b[0m\u001b[0;34m\u001b[0m\u001b[0;34m\u001b[0m\u001b[0m\n\u001b[0;32m----> 2\u001b[0;31m \u001b[0mstate\u001b[0m\u001b[0;34m\u001b[0m\u001b[0;34m\u001b[0m\u001b[0m\n\u001b[0m",
      "\u001b[0;31mNameError\u001b[0m: name 'state' is not defined"
     ]
    }
   ],
   "source": [
    "del state\n",
    "state"
   ]
  },
  {
   "cell_type": "markdown",
   "metadata": {},
   "source": [
    "qulacsには他にも、量子状態のコピーや、"
   ]
  },
  {
   "cell_type": "code",
   "execution_count": 12,
   "metadata": {},
   "outputs": [],
   "source": [
    "state = QuantumState(nqubits)\n",
    "copied_state = state.copy()"
   ]
  },
  {
   "cell_type": "markdown",
   "metadata": {},
   "source": [
    "２つの量子状態の内積の計算、"
   ]
  },
  {
   "cell_type": "code",
   "execution_count": 13,
   "metadata": {},
   "outputs": [
    {
     "data": {
      "text/plain": [
       "(1+0j)"
      ]
     },
     "execution_count": 13,
     "metadata": {},
     "output_type": "execute_result"
    }
   ],
   "source": [
    "from qulacs.state import inner_product\n",
    "inner_product(copied_state,state)\n",
    "#同じ状態の内積なので1になる。"
   ]
  },
  {
   "cell_type": "markdown",
   "metadata": {},
   "source": [
    "そして、古典ビットの確保など、他にもさまざまな機能が用意されている。"
   ]
  },
  {
   "cell_type": "markdown",
   "metadata": {},
   "source": [
    "### 量子演算とその実行"
   ]
  },
  {
   "cell_type": "markdown",
   "metadata": {},
   "source": [
    "　量子演算の生成は、`gate`に関するモジュールを用いて実行する。パウリ演算やアダマール演算、CNOT演算など、よく使う基本演算はあらかじめ定義されている。また、自分で定義した配列から、量子演算を生成することもできる。"
   ]
  },
  {
   "cell_type": "code",
   "execution_count": 14,
   "metadata": {},
   "outputs": [],
   "source": [
    "from qulacs import QuantumState\n",
    "from qulacs.gate import Identity, X,Y,Z #パウリ演算子\n",
    "from qulacs.gate import H,S,Sdag, sqrtX,sqrtXdag,sqrtY,sqrtYdag #1量子ビット Clifford演算\n",
    "from qulacs.gate import T,Tdag #1量子ビット 非Clifford演算\n",
    "from qulacs.gate import RX,RY,RZ #パウリ演算子についての回転演算\n",
    "from qulacs.gate import CNOT, CZ, SWAP #2量子ビット演算"
   ]
  },
  {
   "cell_type": "markdown",
   "metadata": {},
   "source": [
    "`Identity` $\n",
    "=\n",
    "\\left(\n",
    "\\begin{array}{cc}\n",
    "1 & 0\n",
    "\\\\\n",
    "0 & 1\n",
    "\\end{array}\n",
    "\\right)\n",
    "$, \n",
    "`X` $\n",
    "= \n",
    "\\left(\n",
    "\\begin{array}{cc}\n",
    "0 & 1\n",
    "\\\\\n",
    "1 & 0\n",
    "\\end{array}\n",
    "\\right)\n",
    "$, \n",
    "`Y` $\n",
    "=\n",
    "\\left(\n",
    "\\begin{array}{cc}\n",
    "0 & -i\n",
    "\\\\\n",
    "i & 0\n",
    "\\end{array}\n",
    "\\right)\n",
    "$, \n",
    "`Z` $\n",
    "=\n",
    "\\left(\n",
    "\\begin{array}{cc}\n",
    "1 & 0\n",
    "\\\\\n",
    "0 & -1\n",
    "\\end{array}\n",
    "\\right)\n",
    "$, \n",
    "\n",
    "\n",
    "`H` $\n",
    "=\n",
    "\\frac{1}{\\sqrt{2}}\\left(\n",
    "\\begin{array}{cc}\n",
    "1 & 1\n",
    "\\\\\n",
    "1 & -1\n",
    "\\end{array}\n",
    "\\right)\n",
    "$, \n",
    "`S` $\n",
    "=\n",
    "\\left(\n",
    "\\begin{array}{cc}\n",
    "1 & 0\n",
    "\\\\\n",
    "0 & i\n",
    "\\end{array}\n",
    "\\right)\n",
    "$,\n",
    "`Sdag` $\n",
    "=\n",
    "\\frac{1}{\\sqrt{2}}\\left(\n",
    "\\begin{array}{cc}\n",
    "1 & 0\n",
    "\\\\\n",
    "0 & -i\n",
    "\\end{array}\n",
    "\\right)\n",
    "$,\n",
    "\n",
    "\n",
    "`sqrtX` $\n",
    "=\\sqrt{X}=\n",
    "\\frac{1}{2}\\left(\n",
    "\\begin{array}{cc}\n",
    "1+i & 1-i\n",
    "\\\\\n",
    "1-i & 1+i\n",
    "\\end{array}\n",
    "\\right)\n",
    "$, \n",
    "`sqrtXdag` $\n",
    "=\\sqrt{X}^{\\dagger}=\n",
    "\\frac{1}{2}\\left(\n",
    "\\begin{array}{cc}\n",
    "1-i & 1+i\n",
    "\\\\\n",
    "1+i & 1-i\n",
    "\\end{array}\n",
    "\\right)\n",
    "$, \n",
    "\n",
    "`sqrtY` $\n",
    "=\\sqrt{Y}=\n",
    "\\frac{1}{2}\\left(\n",
    "\\begin{array}{cc}\n",
    "1+i & -1-i\n",
    "\\\\\n",
    "1+i & 1+i\n",
    "\\end{array}\n",
    "\\right)\n",
    "$, \n",
    "`sqrtYdag` $\n",
    "=\\sqrt{Y}^{\\dagger}=\n",
    "\\frac{1}{2}\\left(\n",
    "\\begin{array}{cc}\n",
    "1-i & -1+i\n",
    "\\\\\n",
    "1-i & 1-i\n",
    "\\end{array}\n",
    "\\right)\n",
    "$"
   ]
  },
  {
   "cell_type": "markdown",
   "metadata": {},
   "source": [
    "`T` \n",
    "$\n",
    "= \n",
    "\\left(\n",
    "\\begin{array}{cc}\n",
    "1 & 0\n",
    "\\\\\n",
    "0 & e^{i \\pi/4}\n",
    "\\end{array}\n",
    "\\right)\n",
    "$, \n",
    "`Tdag` \n",
    "$=\n",
    "\\left(\n",
    "\\begin{array}{cc}\n",
    "1 & 0\n",
    "\\\\\n",
    "0 & e^{-i \\pi/4}\n",
    "\\end{array}\n",
    "\\right)\n",
    "$\n"
   ]
  },
  {
   "cell_type": "markdown",
   "metadata": {},
   "source": [
    "`RX` $= e^{i (\\theta/2) X}$, `RY` $= e^{i (\\theta/2) Y}$, `RZ` $= e^{i (\\theta/2) Z}$"
   ]
  },
  {
   "cell_type": "markdown",
   "metadata": {},
   "source": [
    "`CNOT` $= \\left(\n",
    "\\begin{array}{cccc}\n",
    "    1 & 0& 0& 0\n",
    "    \\\\\n",
    "    0 & 1& 0& 0\n",
    "    \\\\\n",
    "    0 & 0& 0& 1\n",
    "    \\\\\n",
    "    0 & 0& 1& 0    \n",
    "\\end{array}\n",
    "\\right)\n",
    "$,\n",
    "`CZ` $= \\left(\n",
    "\\begin{array}{cccc}\n",
    "    1 & 0& 0& 0\n",
    "    \\\\\n",
    "    0 & 1& 0& 0\n",
    "    \\\\\n",
    "    0 & 0& 1& 0\n",
    "    \\\\\n",
    "    0 & 0& 0& -1    \n",
    "\\end{array}\n",
    "\\right)\n",
    "$,\n",
    "`SWAP` $= \\left(\n",
    "\\begin{array}{cccc}\n",
    "    1 & 0& 0& 0\n",
    "    \\\\\n",
    "    0 & 0& 1& 0\n",
    "    \\\\\n",
    "    0 & 1& 0& 0\n",
    "    \\\\\n",
    "    0 & 0& 0& 1    \n",
    "\\end{array}\n",
    "\\right)\n",
    "$"
   ]
  },
  {
   "cell_type": "markdown",
   "metadata": {},
   "source": [
    "他にも、多体のパウリ演算、`Pauli`、多体パウリ演算による回転、`PauliRotation`、IBMQで利用されている`U1`,`U2`,`U3`演算や、測定、`Measurement`、ノイズ（確率的な演算）、 `BitFlipNoise`、`DephasingNoise`、 `IndepenedentXZNoise`、`DepolarizingNoise`なども用意されている。これらの事前に定義された演算に対して、量子ビットのインデックスや、回転演算の角度など必要な情報を引数として指定することによってが`gate`が生成される。生成された演算を状態に作用させ状態`state`を更新するときは、`gate.update_quantum_state(state)`が利用できる。"
   ]
  },
  {
   "cell_type": "code",
   "execution_count": 14,
   "metadata": {},
   "outputs": [
    {
     "name": "stdout",
     "output_type": "stream",
     "text": [
      "[1.+0.j 0.+0.j 0.+0.j 0.+0.j 0.+0.j 0.+0.j 0.+0.j 0.+0.j]\n",
      "[0.+0.j 1.+0.j 0.+0.j 0.+0.j 0.+0.j 0.+0.j 0.+0.j 0.+0.j]\n",
      "[0.+0.j 0.+0.j 0.+0.j 1.+0.j 0.+0.j 0.+0.j 0.+0.j 0.+0.j]\n",
      "[0.        +0.j 0.        +0.j 0.        +0.j 0.70710678+0.j\n",
      " 0.        +0.j 0.        +0.j 0.        +0.j 0.70710678+0.j]\n",
      "[0.        +0.j 0.        +0.j 0.        +0.j 0.70710678+0.j\n",
      " 0.        +0.j 0.70710678+0.j 0.        +0.j 0.        +0.j]\n"
     ]
    }
   ],
   "source": [
    "state = QuantumState(3) #量子ビットの状態確保\n",
    "state.set_zero_state() #状態をすべてゼロに初期化\n",
    "print(state.get_vector()) #状態の情報を取得\n",
    "\n",
    "X(0).update_quantum_state(state) #0番目の量子ビットにXを作用させ状態をアップデート\n",
    "print(state.get_vector())\n",
    "\n",
    "gate = X(1) #1番目の量子ビットに作用するX演算を生成\n",
    "gate.update_quantum_state(state) #生成した演算を作用させて状態をアップデート\n",
    "print(state.get_vector())\n",
    "\n",
    "H(2).update_quantum_state(state) #2番目の量子ビットにHを作用させ状態をアップデート\n",
    "print(state.get_vector())\n",
    "\n",
    "CNOT(2,1).update_quantum_state(state) #2番目から1番目の量子ビットへのCNOTを作用させ状態をアップデート\n",
    "print(state.get_vector())"
   ]
  },
  {
   "cell_type": "markdown",
   "metadata": {},
   "source": [
    "`RX`、`RY`,`RZ`などの回転演算は、作用する量子ビットのインデックスと回転角を与えて定義する。"
   ]
  },
  {
   "cell_type": "code",
   "execution_count": 15,
   "metadata": {},
   "outputs": [
    {
     "name": "stdout",
     "output_type": "stream",
     "text": [
      "[ 0.92387953+0.j -0.38268343+0.j]\n"
     ]
    }
   ],
   "source": [
    "state = QuantumState(1)\n",
    "state.set_zero_state()\n",
    "RY(0,np.pi/4.0).update_quantum_state(state) #0番目の量子ビットをY軸に pi/4 回転させる\n",
    "print(state.get_vector())"
   ]
  },
  {
   "cell_type": "markdown",
   "metadata": {},
   "source": [
    "`DenseMatrix`を用いて、自分で定義した一般の行列から演算を作ることもできる。"
   ]
  },
  {
   "cell_type": "code",
   "execution_count": 16,
   "metadata": {},
   "outputs": [
    {
     "name": "stdout",
     "output_type": "stream",
     "text": [
      "[[     0.          17458.4664275 ]\n",
      " [139674.80248778      0.        ]]\n",
      "[12345.+0.j 98765.+0.j]\n"
     ]
    }
   ],
   "source": [
    "from qulacs.gate import DenseMatrix\n",
    "import numpy as np\n",
    "state = QuantumState(1)\n",
    "state.set_zero_state()\n",
    "H(0).update_quantum_state(state)\n",
    "\n",
    "my_matrix = np.array([[0,12345*np.sqrt(2)],[98765*np.sqrt(2),0]]) #任意の行列要素を自分で定義\n",
    "print(my_matrix)\n",
    "\n",
    "gate = DenseMatrix(0,my_matrix) #定義した行列から演算を生成\n",
    "gate.update_quantum_state(state)\n",
    "\n",
    "print(state.get_vector())"
   ]
  },
  {
   "cell_type": "markdown",
   "metadata": {},
   "source": [
    "複数の量子ビットに作用する演算を定義したければ、`DenseMatrix(\"作用する量子ビットのインデックスリスト\",\"行列の配列\")`とすればよい。"
   ]
  },
  {
   "cell_type": "markdown",
   "metadata": {},
   "source": [
    "### 量子回路の構成"
   ]
  },
  {
   "cell_type": "markdown",
   "metadata": {},
   "source": [
    "上で説明したように、各演算ごとに実行して量子状態を更新することもできるが、複雑な量子回路を構成する場合には、実行する前に量子回路を構成できると便利であろう。qulacsでは、`QuantumCircuit`を用いて、演算の集合からなる回路`circuit`を定義することができる。定義した回路をprintすると、構成された回路の詳細データを得ることができる。"
   ]
  },
  {
   "cell_type": "code",
   "execution_count": 25,
   "metadata": {},
   "outputs": [
    {
     "name": "stdout",
     "output_type": "stream",
     "text": [
      "*** Quantum Circuit Info ***\n",
      "# of qubit: 2\n",
      "# of step : 0\n",
      "# of gate : 0\n",
      "Clifford  : yes\n",
      "Gaussian  : yes\n",
      "\n",
      "\n"
     ]
    }
   ],
   "source": [
    "from qulacs import QuantumCircuit\n",
    "nqubits = 2\n",
    "state = QuantumState(nqubits)\n",
    "state.set_zero_state()\n",
    "circuit = QuantumCircuit(nqubits)\n",
    "print(circuit)"
   ]
  },
  {
   "cell_type": "markdown",
   "metadata": {},
   "source": [
    "回路への、演算の追加は、以下のような方法で行うことができる。"
   ]
  },
  {
   "cell_type": "code",
   "execution_count": 26,
   "metadata": {},
   "outputs": [
    {
     "name": "stdout",
     "output_type": "stream",
     "text": [
      "*** Quantum Circuit Info ***\n",
      "# of qubit: 2\n",
      "# of step : 1\n",
      "# of gate : 2\n",
      "# of 1 qubit gate: 2\n",
      "Clifford  : yes\n",
      "Gaussian  : no\n",
      "\n",
      "\n"
     ]
    }
   ],
   "source": [
    "circuit.add_H_gate(0) # 0番目の量子ビットに作用するHを追加\n",
    "circuit.add_gate(H(1)) # 1番目の量子ビットに作用するHを追加\n",
    "print(circuit)"
   ]
  },
  {
   "cell_type": "markdown",
   "metadata": {},
   "source": [
    "このようにして構成された`circuit`を実行して`state`の更新を行いたければ、`gate`の場合と同様に、\n",
    "`circuit.update_quantum_state(state)`とすればよい。"
   ]
  },
  {
   "cell_type": "code",
   "execution_count": 27,
   "metadata": {},
   "outputs": [
    {
     "name": "stdout",
     "output_type": "stream",
     "text": [
      "[0.5+0.j 0.5+0.j 0.5+0.j 0.5+0.j]\n"
     ]
    }
   ],
   "source": [
    "circuit.update_quantum_state(state) #構成されたcircuitを実行して状態を更新\n",
    "print(state.get_vector())"
   ]
  },
  {
   "cell_type": "markdown",
   "metadata": {},
   "source": [
    "### Qulacsのベンチマーク\n",
    "    一通り、導入が終わったので、qulacsの実行速度を計測してみよう。まずは、一量子ビットの実行時間を計測してみる。"
   ]
  },
  {
   "cell_type": "code",
   "execution_count": 30,
   "metadata": {},
   "outputs": [
    {
     "name": "stdout",
     "output_type": "stream",
     "text": [
      "number of qubit:5 time:1.9687132096718943e-07[sec]\n",
      "number of qubit:6 time:1.690518187778027e-07[sec]\n",
      "number of qubit:7 time:1.6907568072369023e-07[sec]\n",
      "number of qubit:8 time:2.1118860324926336e-07[sec]\n",
      "number of qubit:9 time:2.788672843421987e-07[sec]\n",
      "number of qubit:10 time:4.668385970926797e-07[sec]\n",
      "number of qubit:11 time:8.271681732156328e-07[sec]\n",
      "number of qubit:12 time:1.4906268183356182e-06[sec]\n",
      "number of qubit:13 time:5.1530265287267315e-05[sec]\n",
      "number of qubit:14 time:5.3595926789478045e-05[sec]\n",
      "number of qubit:15 time:5.562001213220082e-05[sec]\n",
      "number of qubit:16 time:5.8467208056721985e-05[sec]\n",
      "number of qubit:17 time:6.886227335108076e-05[sec]\n",
      "number of qubit:18 time:8.149594117081021e-05[sec]\n",
      "number of qubit:19 time:0.00010949050405769253[sec]\n",
      "number of qubit:20 time:0.0005075146453549164[sec]\n",
      "number of qubit:21 time:0.002522188320494535[sec]\n",
      "number of qubit:22 time:0.005484505133195357[sec]\n",
      "number of qubit:23 time:0.011121327462403671[sec]\n",
      "number of qubit:24 time:0.022787079215049744[sec]\n",
      "number of qubit:25 time:0.045973320007324216[sec]\n"
     ]
    }
   ],
   "source": [
    "import time\n",
    "bench_result_H=[[],[]]\n",
    "\n",
    "for i in range(21):\n",
    "    nqubits = i+5\n",
    "    state = QuantumState(nqubits)\n",
    "    state.set_zero_state()\n",
    "    circuit = QuantumCircuit(nqubits)\n",
    "    for j in range(nqubits):\n",
    "        circuit.add_gate(H(j)) #全部の量子ビットにHを作用させる回路を構成\n",
    "    \n",
    "    count = 0\n",
    "    \n",
    "    #計測スタート\n",
    "    start = time.time()\n",
    "    while time.time() - start < 1:\n",
    "        count = count+1\n",
    "        circuit.update_quantum_state(state)\n",
    "    elapsed_time = (time.time() - start)/(count*nqubits)\n",
    "    #計測終了\n",
    "    \n",
    "    total_counts = count*nqubits\n",
    "    bench_result_H[0].append(nqubits)    \n",
    "    bench_result_H[1].append(elapsed_time)\n",
    "    \n",
    "    print (\"number of qubit:{0}\".format(nqubits)+\" time:{0}\".format(elapsed_time) + \"[sec]\")"
   ]
  },
  {
   "cell_type": "code",
   "execution_count": 32,
   "metadata": {},
   "outputs": [
    {
     "data": {
      "text/plain": [
       "<function matplotlib.pyplot.show(*args, **kw)>"
      ]
     },
     "execution_count": 32,
     "metadata": {},
     "output_type": "execute_result"
    },
    {
     "data": {
      "image/png": "[encoded data removed]",
      "text/plain": [
       "<Figure size 432x288 with 1 Axes>"
      ]
     },
     "metadata": {
      "needs_background": "light"
     },
     "output_type": "display_data"
    }
   ],
   "source": [
    "import matplotlib.pyplot as plt\n",
    "plt.yscale(\"log\")\n",
    "plt.plot(bench_result_H[0],bench_result_H[1])\n",
    "plt.show"
   ]
  },
  {
   "cell_type": "markdown",
   "metadata": {},
   "source": [
    "25量子ビットまで実行してみたが、かなり高速に動くことがわかる。"
   ]
  },
  {
   "cell_type": "code",
   "execution_count": 33,
   "metadata": {},
   "outputs": [
    {
     "name": "stdout",
     "output_type": "stream",
     "text": [
      "number of qubit:5 time:6.202165496482108e-08[sec]\n",
      "number of qubit:6 time:5.588150408760955e-08[sec]\n",
      "number of qubit:7 time:5.62437318487205e-08[sec]\n",
      "number of qubit:8 time:7.400796514955784e-08[sec]\n",
      "number of qubit:9 time:1.1826115802699616e-07[sec]\n",
      "number of qubit:10 time:2.36120260771216e-07[sec]\n",
      "number of qubit:11 time:3.9589775392838373e-07[sec]\n",
      "number of qubit:12 time:7.587594129694038e-07[sec]\n",
      "number of qubit:13 time:4.8524765281611056e-05[sec]\n",
      "number of qubit:14 time:5.1022036850913346e-05[sec]\n",
      "number of qubit:15 time:5.346290648929657e-05[sec]\n",
      "number of qubit:16 time:5.631794532140096e-05[sec]\n",
      "number of qubit:17 time:6.078466729924672e-05[sec]\n",
      "number of qubit:18 time:7.032379953540626e-05[sec]\n",
      "number of qubit:19 time:8.449255673210125e-05[sec]\n",
      "number of qubit:20 time:0.0002578861405404561[sec]\n",
      "number of qubit:21 time:0.001144060255989196[sec]\n",
      "number of qubit:22 time:0.0029748136346990414[sec]\n",
      "number of qubit:23 time:0.006605439035317643[sec]\n",
      "number of qubit:24 time:0.013728786637817604[sec]\n",
      "number of qubit:25 time:0.027585373719533283[sec]\n"
     ]
    }
   ],
   "source": [
    "bench_result_CNOT=[[],[]]\n",
    "\n",
    "for i in range(21):\n",
    "    nqubits = i+5\n",
    "    state = QuantumState(nqubits)\n",
    "    state.set_zero_state()\n",
    "    circuit = QuantumCircuit(nqubits)\n",
    "    for j in range(nqubits):\n",
    "        for k in range(nqubits):\n",
    "            if k != j :\n",
    "                circuit.add_gate(CNOT(j,k))        \n",
    "\n",
    "    count = 0\n",
    "    \n",
    "    #計測スタート\n",
    "    start = time.time()\n",
    "    while time.time() - start < 1:\n",
    "        count = count+1\n",
    "        circuit.update_quantum_state(state)\n",
    "    elapsed_time = time.time() - start\n",
    "    #計測終了\n",
    "    \n",
    "    total_counts = count*nqubits*(nqubits-1)\n",
    "    bench_result_CNOT[0].append(nqubits)    \n",
    "    bench_result_CNOT[1].append(elapsed_time/total_counts)\n",
    "    \n",
    "    print (\"number of qubit:{0}\".format(nqubits)+\" time:{0}\".format(elapsed_time/total_counts) + \"[sec]\")"
   ]
  },
  {
   "cell_type": "code",
   "execution_count": 34,
   "metadata": {},
   "outputs": [
    {
     "data": {
      "text/plain": [
       "<function matplotlib.pyplot.show(*args, **kw)>"
      ]
     },
     "execution_count": 34,
     "metadata": {},
     "output_type": "execute_result"
    },
    {
     "data": {
      "image/png": "[encoded data removed]",
      "text/plain": [
       "<Figure size 432x288 with 1 Axes>"
      ]
     },
     "metadata": {
      "needs_background": "light"
     },
     "output_type": "display_data"
    }
   ],
   "source": [
    "plt.yscale(\"log\")\n",
    "plt.plot(bench_result_H[0],bench_result_H[1])\n",
    "plt.plot(bench_result_CNOT[0],bench_result_CNOT[1])\n",
    "plt.show"
   ]
  },
  {
   "cell_type": "markdown",
   "metadata": {},
   "source": [
    "1量子ビット演算よりも2量子ビット演算であるCNOTの方が速いことがわかる。これは、CNOTは複素数の積や和を行う必要がなく、特定の要素を置換することによって実行できるからである。qulacsでは事前に定義されている基本演算のうち、このような性質をもった演算についてはその性質を利用して高速化している。一般の２量子ビット演算の場合に計測してみよう。"
   ]
  },
  {
   "cell_type": "code",
   "execution_count": 40,
   "metadata": {},
   "outputs": [
    {
     "data": {
      "text/plain": [
       "<function matplotlib.pyplot.show>"
      ]
     },
     "execution_count": 40,
     "metadata": {},
     "output_type": "execute_result"
    },
    {
     "data": {
      "image/png": "[encoded data removed]",
      "text/plain": [
       "<Figure size 432x288 with 1 Axes>"
      ]
     },
     "metadata": {},
     "output_type": "display_data"
    }
   ],
   "source": [
    "plt.yscale(\"log\")\n",
    "plt.plot(bench_result_H[0],bench_result_H[1])\n",
    "plt.plot(bench_result_CNOT[0],bench_result_CNOT[1])\n",
    "plt.plot(bench_result_TwoQbit[0],bench_result_TwoQbit[1])\n",
    "plt.show"
   ]
  },
  {
   "cell_type": "markdown",
   "metadata": {},
   "source": [
    "　量子ビット数を20に固定して、一般的なk量子ビット演算を作用させた場合の時間を計測してみよう。"
   ]
  },
  {
   "cell_type": "code",
   "execution_count": 35,
   "metadata": {},
   "outputs": [
    {
     "name": "stdout",
     "output_type": "stream",
     "text": [
      "size of gate:1 time:0.0006282894313335419[sec]\n",
      "size of gate:2 time:0.0006249970548293169[sec]\n",
      "size of gate:3 time:0.00479438304901123[sec]\n",
      "size of gate:4 time:0.007566258907318115[sec]\n",
      "size of gate:5 time:0.015418968200683593[sec]\n",
      "size of gate:6 time:0.03478940010070801[sec]\n",
      "size of gate:7 time:0.07633843183517457[sec]\n",
      "size of gate:8 time:0.1740821623802185[sec]\n",
      "size of gate:9 time:0.36240010023117064[sec]\n",
      "size of gate:10 time:0.8412201714515686[sec]\n"
     ]
    }
   ],
   "source": [
    "import numpy as np\n",
    "from qulacs.gate import DenseMatrix\n",
    "\n",
    "bench_result_Dense=[[],[]]\n",
    "\n",
    "nqubits =20\n",
    "for k in range(1,11):\n",
    "    dim_of_gate = 2**k\n",
    "    random_matrix = np.array([[random.random() for i in range(dim_of_gate)] for j in range(dim_of_gate )]) \n",
    "    state = QuantumState(nqubits)\n",
    "    state.set_zero_state()\n",
    "    circuit = QuantumCircuit(nqubits)\n",
    "    for j in range(100):\n",
    "        circuit.add_gate(DenseMatrix(random.sample(range(nqubits),k),random_matrix))        \n",
    "\n",
    "    count = 0\n",
    "    \n",
    "    #計測スタート\n",
    "    start = time.time()\n",
    "    while time.time() - start < 1:\n",
    "        count = count+1\n",
    "        circuit.update_quantum_state(state)\n",
    "    elapsed_time = time.time() - start\n",
    "    #計測終了\n",
    "    \n",
    "    total_counts = count*100\n",
    "    bench_result_Dense[0].append(k)    \n",
    "    bench_result_Dense[1].append(elapsed_time/total_counts)\n",
    "    \n",
    "    print (\"size of gate:{0}\".format(k)+\" time:{0}\".format(elapsed_time/total_counts) + \"[sec]\")"
   ]
  },
  {
   "cell_type": "code",
   "execution_count": 37,
   "metadata": {},
   "outputs": [
    {
     "data": {
      "text/plain": [
       "<function matplotlib.pyplot.show(*args, **kw)>"
      ]
     },
     "execution_count": 37,
     "metadata": {},
     "output_type": "execute_result"
    },
    {
     "data": {
      "image/png": "[encoded data removed]",
      "text/plain": [
       "<Figure size 432x288 with 1 Axes>"
      ]
     },
     "metadata": {
      "needs_background": "light"
     },
     "output_type": "display_data"
    }
   ],
   "source": [
    "plt.yscale(\"log\")\n",
    "plt.plot(bench_result_Dense[0],bench_result_Dense[1])\n",
    "plt.show"
   ]
  },
  {
   "cell_type": "markdown",
   "metadata": {},
   "source": [
    "### 演算の合成による量子回路の再構成"
   ]
  },
  {
   "cell_type": "markdown",
   "metadata": {},
   "source": [
    "量子演算を実行して量子状態を更新するのは量子ビット数に対して指数的に時間がかかるタスクである。よって、一量子ビットの演算が連続して作用する場合などは、それらをまとめてしまい、１回の更新としてしまったほうがよいであろう。qulacsでは、2つの演算を合成`merge`して１つの演算としてまとめるような機能が実装されている。`merge(gate1,gate2)`とすることで、`gate1`を作用させ、`gate2`をその後作用させるという演算をまとめた一つの演算が生成される。例えば、１量子ビット演算が連続して作用する以下のような場合を考えよう。"
   ]
  },
  {
   "cell_type": "code",
   "execution_count": 44,
   "metadata": {},
   "outputs": [
    {
     "name": "stdout",
     "output_type": "stream",
     "text": [
      "not  time:4.189133882522583[sec]\n"
     ]
    }
   ],
   "source": [
    "#計測スタート\n",
    "start = time.time()\n",
    "nqubits =24\n",
    "state = QuantumState(nqubits)\n",
    "state.set_zero_state()\n",
    "circuit = QuantumCircuit(nqubits)\n",
    "for i in range(nqubits):\n",
    "    circuit.add_gate(H(i))\n",
    "    circuit.add_gate(RX(i,np.random.random()))\n",
    "    circuit.add_gate(RY(i,np.random.random()))\n",
    "    circuit.add_gate(RZ(i,np.random.random()))\n",
    "    \n",
    "circuit.update_quantum_state(state)\n",
    "elapsed_time = (time.time() - start)\n",
    "#計測終了\n",
    "print(\"not  time:{0}\".format(elapsed_time) + \"[sec]\")\n"
   ]
  },
  {
   "cell_type": "markdown",
   "metadata": {},
   "source": [
    "この複数の1量子ビット演算をまとめて、１つの演算に合成して、状態を更新すると、"
   ]
  },
  {
   "cell_type": "code",
   "execution_count": 45,
   "metadata": {},
   "outputs": [
    {
     "name": "stdout",
     "output_type": "stream",
     "text": [
      "not merged  time:1.1644189357757568[sec]\n"
     ]
    }
   ],
   "source": [
    "from qulacs.gate import merge\n",
    "#計測スタート\n",
    "start = time.time()\n",
    "nqubits =24\n",
    "state = QuantumState(nqubits)\n",
    "state.set_zero_state()\n",
    "circuit = QuantumCircuit(nqubits)\n",
    "for i in range(nqubits):\n",
    "    gate = H(i)\n",
    "    gate = merge(gate,RX(i,np.random.random()))\n",
    "    gate = merge(gate,RY(i,np.random.random()))\n",
    "    gate = merge(gate,RZ(i,np.random.random()))\n",
    "    circuit.add_gate(gate)\n",
    "\n",
    "\n",
    "circuit.update_quantum_state(state)\n",
    "elapsed_time = (time.time() - start)\n",
    "#計測終了\n",
    "print(\"not merged  time:{0}\".format(elapsed_time) + \"[sec]\")"
   ]
  },
  {
   "cell_type": "markdown",
   "metadata": {},
   "source": [
    "計算時間が約4倍に速くなっている。一般的に、作用する量子ビットが増えない場合は、常に合成したほうが計算時間は短くなる。また、上でベンチマークをとったように、4量子ビットまでは、必ずしも合成しても計算時間が2倍で増えていくわけではないので、作用する量子ビット数を増やしてでも合成してしまうほうが時間短縮される場合もある。"
   ]
  },
  {
   "cell_type": "markdown",
   "metadata": {},
   "source": [
    " もう少し、現実的な量子回路で、計算時間の最適化をおこなってみよう。1量子ビットの任意の回転ができる、\n",
    "$$\n",
    "V(a,b,c) = e^{i a Z} e^{i b X} e^{i c Z}\n",
    "$$\n",
    "を各量子ビットに作用させ、隣り合う量子ビットに `CZ` を作用させるような一連の演算を１つのサイクルとし、これをdサイクル作用させるような量子回路を考える。試しに、20量子ビット、30サイクルで時間を計測してみよう。"
   ]
  },
  {
   "cell_type": "code",
   "execution_count": 46,
   "metadata": {},
   "outputs": [
    {
     "name": "stdout",
     "output_type": "stream",
     "text": [
      "*** Quantum Circuit Info ***\n",
      "# of qubit: 20\n",
      "# of step : 167\n",
      "# of gate : 2370\n",
      "# of 1 qubit gate: 1800\n",
      "# of 2 qubit gate: 570\n",
      "Clifford  : no\n",
      "Gaussian  : no\n",
      "\n",
      "\n",
      "time:5.541959762573242[sec]\n"
     ]
    }
   ],
   "source": [
    "start = time.time()\n",
    "nqubits = 20\n",
    "depth = 30\n",
    "state = QuantumState(nqubits)\n",
    "state.set_zero_state()\n",
    "circuit = QuantumCircuit(nqubits)\n",
    "\n",
    "for j in range(depth):\n",
    "    for i in range(nqubits):\n",
    "        circuit.add_gate(RZ(i,np.random.random()))\n",
    "        circuit.add_gate(RX(i,np.random.random()))\n",
    "        circuit.add_gate(RZ(i,np.random.random()))\n",
    "\n",
    "    for i in range(nqubits-1):\n",
    "        circuit.add_gate(CZ(i,i+1))\n",
    "print(circuit)\n",
    "circuit.update_quantum_state(state)\n",
    "elapsed_time = (time.time() - start)\n",
    "#計測終了\n",
    "print(\"time:{0}\".format(elapsed_time) + \"[sec]\")"
   ]
  },
  {
   "cell_type": "markdown",
   "metadata": {},
   "source": [
    "約５秒かかっている。（現在、実験結果が報告されている量子ビット数は２０量子ビット程度であり、これぐらいのサイズであれば、ほんの数秒で完全にシミュレーションできてしまう。）次に、偶数番目のCZ演算と１量子ビット演算を合成してみよう。"
   ]
  },
  {
   "cell_type": "code",
   "execution_count": 47,
   "metadata": {},
   "outputs": [
    {
     "name": "stdout",
     "output_type": "stream",
     "text": [
      "*** Quantum Circuit Info ***\n",
      "# of qubit: 20\n",
      "# of step : 60\n",
      "# of gate : 570\n",
      "# of 1 qubit gate: 0\n",
      "# of 2 qubit gate: 570\n",
      "Clifford  : no\n",
      "Gaussian  : no\n",
      "\n",
      "\n",
      "time:3.0469729900360107[sec]\n"
     ]
    }
   ],
   "source": [
    "start = time.time()\n",
    "nqubits = 20 #偶数\n",
    "depth = 30\n",
    "state = QuantumState(nqubits)\n",
    "state.set_zero_state()\n",
    "circuit = QuantumCircuit(nqubits)\n",
    "\n",
    "for j in range(depth):\n",
    "    for i in range(int(nqubits/2)):\n",
    "        gate = RZ(2*i,np.random.random())\n",
    "        gate = merge(gate,RX(2*i,np.random.random()))\n",
    "        gate = merge(gate,RZ(2*i,np.random.random()))\n",
    "\n",
    "        gate = merge(gate,RZ(2*i+1,np.random.random()))\n",
    "        gate = merge(gate,RX(2*i+1,np.random.random()))\n",
    "        gate = merge(gate,RZ(2*i+1,np.random.random()))\n",
    "\n",
    "        gate = merge(gate,CZ(2*i,2*i+1))\n",
    "        circuit.add_gate(gate)\n",
    "\n",
    "    for i in range(int(nqubits/2)-1):\n",
    "        circuit.add_gate(CZ(2*i+1,2*i+2))\n",
    "print(circuit)\n",
    "\n",
    "circuit.update_quantum_state(state)\n",
    "elapsed_time = (time.time() - start)\n",
    "#計測終了\n",
    "print(\"time:{0}\".format(elapsed_time) + \"[sec]\")"
   ]
  },
  {
   "cell_type": "markdown",
   "metadata": {},
   "source": [
    "一量子ビット演算をすべて２量子ビット演算に吸収させた結果、計算時間が約半分に短縮された。さらに４量子ビット分まとめて１つの演算として合成してみよう。"
   ]
  },
  {
   "cell_type": "code",
   "execution_count": 48,
   "metadata": {},
   "outputs": [
    {
     "name": "stdout",
     "output_type": "stream",
     "text": [
      "*** Quantum Circuit Info ***\n",
      "# of qubit: 20\n",
      "# of step : 60\n",
      "# of gate : 270\n",
      "# of 1 qubit gate: 0\n",
      "# of 2 qubit gate: 120\n",
      "# of 3 qubit gate: 0\n",
      "# of 4 qubit gate: 150\n",
      "Clifford  : no\n",
      "Gaussian  : no\n",
      "\n",
      "\n",
      "time:3.8818349838256836[sec]\n"
     ]
    }
   ],
   "source": [
    "start = time.time()\n",
    "nqubits = 20 #４の倍数\n",
    "depth = 30\n",
    "state = QuantumState(nqubits)\n",
    "state.set_zero_state()\n",
    "circuit = QuantumCircuit(nqubits)\n",
    "\n",
    "for j in range(depth):\n",
    "    for i in range(int(nqubits/2/2)):\n",
    "        gate = Identity(4*i)\n",
    "        for k in range(4):\n",
    "            gate = merge(gate,RZ(4*i+k,np.random.random()))\n",
    "            gate = merge(gate,RX(4*i+k,np.random.random()))\n",
    "            gate = merge(gate,RZ(4*i+k,np.random.random()))\n",
    "\n",
    "        for k in range(3):\n",
    "            gate = merge(gate,CZ(4*i+k,4*i+k+1))\n",
    "\n",
    "        circuit.add_gate(gate)\n",
    "\n",
    "    for i in range(int(nqubits/2/2)-1):\n",
    "        circuit.add_gate(CZ(4*i+3,4*i+4))\n",
    "print(circuit)\n",
    "\n",
    "circuit.update_quantum_state(state)\n",
    "elapsed_time = (time.time() - start)\n",
    "#計測終了\n",
    "print(\"time:{0}\".format(elapsed_time) + \"[sec]\")"
   ]
  },
  {
   "cell_type": "markdown",
   "metadata": {},
   "source": [
    "合計、５７０個あった２量子ビット演算のうち３００個については、４量子ビット演算として合成され半分の150個になった。\n",
    "しかし、４量子ビット演算の実行速度は３量子ビット演算に比べ約２倍かかるので、合成による効果を相殺してしまっている。どのような回路構成になっているかによって、どこまで合成すべきかが大きく変わってくることになる。qulacsでは、何量子ビット演算までの合成を行うか、というのを指定して、合成を行った時に、計算ステップがどこまで圧縮できるかというのを最適化する関数、`QuantumCircuitOptimizer`が用意されている。"
   ]
  },
  {
   "cell_type": "code",
   "execution_count": 49,
   "metadata": {},
   "outputs": [
    {
     "name": "stdout",
     "output_type": "stream",
     "text": [
      "step(no optimization):167\n",
      "step(2qubit block):31\n"
     ]
    }
   ],
   "source": [
    "from qulacs.circuit import QuantumCircuitOptimizer\n",
    "\n",
    "nqubits = 20\n",
    "depth = 30\n",
    "\n",
    "circuit = QuantumCircuit(nqubits)\n",
    "\n",
    "for j in range(depth):\n",
    "    for i in range(nqubits):\n",
    "        circuit.add_gate(RZ(i,np.random.random()))\n",
    "        circuit.add_gate(RX(i,np.random.random()))\n",
    "        circuit.add_gate(RZ(i,np.random.random()))\n",
    "\n",
    "    for i in range(nqubits-1):\n",
    "        circuit.add_gate(CZ(i,i+1))\n",
    "\n",
    "circuit_original = circuit.copy()\n",
    "print(\"step(no optimization):{0}\".format(circuit.calculate_depth()))\n",
    "\n",
    "opt = QuantumCircuitOptimizer()\n",
    "\n",
    "max_block_size = 2\n",
    "opt.optimize(circuit, max_block_size)\n",
    "print(\"step(2qubit block):{0}\".format(circuit.calculate_depth()))\n"
   ]
  },
  {
   "cell_type": "markdown",
   "metadata": {},
   "source": [
    "２量子ビット演算への合成によって、計算ステップ数を31まで減らせることがわかった。元々の回路と計算時間を比較しておこう。"
   ]
  },
  {
   "cell_type": "code",
   "execution_count": 51,
   "metadata": {},
   "outputs": [
    {
     "name": "stdout",
     "output_type": "stream",
     "text": [
      "no optimization time:4.844254970550537[sec]\n",
      "2qubit block time:2.818542003631592[sec]\n"
     ]
    }
   ],
   "source": [
    "state = QuantumState(nqubits)\n",
    "state.set_zero_state()\n",
    "\n",
    "start = time.time()\n",
    "circuit_original.update_quantum_state(state)\n",
    "elapsed_time = (time.time() - start)\n",
    "print(\"no optimization time:{0}\".format(elapsed_time) + \"[sec]\")\n",
    "\n",
    "start = time.time()\n",
    "circuit.update_quantum_state(state)\n",
    "elapsed_time = (time.time() - start)\n",
    "print(\"2qubit block time:{0}\".format(elapsed_time) + \"[sec]\")\n",
    "\n"
   ]
  },
  {
   "cell_type": "markdown",
   "metadata": {},
   "source": [
    "最後に、ランダムなペアの量子ビットに、２量子ビット演算を作用させるような量子回路でこの自動最適化を用いてどこまで計算時間が短縮されるかを見ておこう。"
   ]
  },
  {
   "cell_type": "code",
   "execution_count": 4,
   "metadata": {},
   "outputs": [
    {
     "name": "stdout",
     "output_type": "stream",
     "text": [
      "2qubit block time:48.90025806427002[sec]\n",
      "3qubit block time:38.759259939193726[sec]\n",
      "4qubit block time:62.55720496177673[sec]\n",
      "5qubit block time:83.77388167381287[sec]\n"
     ]
    }
   ],
   "source": [
    "nqubits = 20\n",
    "\n",
    "for j in range(2,6):\n",
    "    state = QuantumState(nqubits)\n",
    "    state.set_zero_state()\n",
    "\n",
    "    circuit = QuantumCircuit(nqubits)\n",
    "\n",
    "    for i in range(nqubits*nqubits*10):\n",
    "        random_matrix = np.array([[random.random() for i in range(4)] for k in range(4)])\n",
    "        circuit.add_gate(DenseMatrix(random.sample(range(nqubits),2),random_matrix))\n",
    "    \n",
    "    opt = QuantumCircuitOptimizer()\n",
    "    max_block_size = j\n",
    "    opt.optimize(circuit, max_block_size)\n",
    "\n",
    "    start = time.time()\n",
    "    circuit.update_quantum_state(state)\n",
    "    elapsed_time = (time.time() - start)\n",
    "    print(\"{0}\".format(max_block_size) + \"qubit block time:{0}\".format(elapsed_time) + \"[sec]\")\n",
    "\n",
    "\n",
    "\n"
   ]
  },
  {
   "cell_type": "markdown",
   "metadata": {},
   "source": [
    "3量子ビット演算まで合成するのがもっとも速い。もっと並列度の高い計算機サーバーなどでは、メモリアクセスによって計算が律速されるので、より大きなサイズへと演算を合成するほうが計算時間を短縮することができる。実際、Intel(R) Xeon(R) Gold 6154 CPU @ 3.00GHz 18×4=72コア搭載した計算機サーバーでは、\n",
    "```\n",
    "2qubit block time:22.444836854934692[sec]\n",
    "3qubit block time:9.564805507659912[sec]\n",
    "4qubit block time:6.949540853500366[sec]\n",
    "5qubit block time:7.183218479156494[sec]\n",
    "6qubit block time:11.331738471984863[sec]\n",
    "7qubit block time:17.24470829963684[sec]\n",
    "8qubit block time:34.30951380729675[sec]\n",
    "```"
   ]
  },
  {
   "cell_type": "markdown",
   "metadata": {},
   "source": [
    "のように、４もしくは５量子ビットまで合成した場合が最速となっている。core i7 2.5GHz（MacBookPro）と比較すると、５倍以上速く計算が終わっている。実行する量子回路がもともと大きな量子演算のブロックを含む場合は、並列計算機が圧倒的に有利になるであろう。"
   ]
  },
  {
   "cell_type": "markdown",
   "metadata": {},
   "source": [
    "### まとめ"
   ]
  },
  {
   "cell_type": "markdown",
   "metadata": {},
   "source": [
    "　ここでは、量子コンピュータのシミュレータをある程度の規模で動かしてみることによってその計算時間のスケーリングを体感してみた。量子ビット数に対して指数的にスケールするとはいえ、２０量子ビットであれば数分で簡単にシミュレーションすることができる。GPUを用いた実験ではGPUメモリに搭載できる規模の量子計算、すなわち３０量子ビット未満であれば、さらに数十倍速くすることができる。これぐらいの規模の量子コンピュータは現在開発中の量子コンピュータの規模であり、発展途上中の量子コンピュータと従来コンピュータによるシミュレーションがちょうど釣り合っているいい時代に我々はいるといえよう。また、実機特有のノイズの効果を取り込むためのモジュールもqulacsでは提供されているので、ノイズ補償や量子エラー訂正法の開発などの用途にも使えるであろう。さらに量子ビット数がふえ、５０量子ビットや１００量子ビットになると、実機が正しい計算をしているかどうかを検証することすら難しい領域に入る。そのような、本当の意味で量子超越の時代を迎えるために、従来コンピュータ上でのシミュレータを使いまわして、しっかり準備をしておきたい。"
   ]
  },
  {
   "cell_type": "code",
   "execution_count": null,
   "metadata": {},
   "outputs": [],
   "source": []
  }
 ],
 "metadata": {
  "kernelspec": {
   "display_name": "Python 3",
   "language": "python",
   "name": "python3"
  },
  "language_info": {
   "codemirror_mode": {
    "name": "ipython",
    "version": 3
   },
   "file_extension": ".py",
   "mimetype": "text/x-python",
   "name": "python",
   "nbconvert_exporter": "python",
   "pygments_lexer": "ipython3",
   "version": "3.7.4"
  }
 },
 "nbformat": 4,
 "nbformat_minor": 2
}
